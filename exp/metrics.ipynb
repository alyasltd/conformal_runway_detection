{
 "cells": [
  {
   "cell_type": "markdown",
   "metadata": {},
   "source": [
    "## Some Metrics "
   ]
  },
  {
   "cell_type": "code",
   "execution_count": 22,
   "metadata": {},
   "outputs": [],
   "source": [
    "import pandas as pd\n",
    "import numpy as np\n",
    "import os\n",
    "import sys"
   ]
  },
  {
   "cell_type": "code",
   "execution_count": 23,
   "metadata": {},
   "outputs": [],
   "source": [
    "df_results_v5a = pd.read_csv(\"results_v5a.csv\")\n",
    "df_results_v5m = pd.read_csv(\"results_v5m.csv\")\n",
    "df_results_v6a = pd.read_csv(\"results_v6_a.csv\")\n",
    "df_results_v6m = pd.read_csv(\"results_v6_m.csv\")\n",
    "\n",
    "df_results_v5a_synth = pd.read_csv(\"results_v5_synth_a.csv\")\n",
    "df_results_v6a_synth = pd.read_csv(\"results_v6_synth_a.csv\")\n",
    "df_results_v5m_synth = pd.read_csv(\"results_v5_synth_m.csv\")\n",
    "df_results_v6m_synth = pd.read_csv(\"results_v6_synth_m.csv\")"
   ]
  },
  {
   "cell_type": "code",
   "execution_count": 24,
   "metadata": {},
   "outputs": [
    {
     "name": "stdout",
     "output_type": "stream",
     "text": [
      "     fichier  variance_avg_area  rms_avg_area\n",
      "0        v5a         156.735305    194.921426\n",
      "1        v5m         177.446512    200.419039\n",
      "2        v6a         156.595371    188.763423\n",
      "3        v6m         173.470811    193.051949\n",
      "4  v5a_synth         185.844961    213.101722\n",
      "5  v6a_synth         184.725090    206.806811\n",
      "6  v5m_synth         209.783191    220.709397\n",
      "7  v6m_synth         204.535365    213.173858\n"
     ]
    }
   ],
   "source": [
    "import pandas as pd\n",
    "import numpy as np\n",
    "\n",
    "files = {\n",
    "    \"v5a\": \"results_v5a.csv\",\n",
    "    \"v5m\": \"results_v5m.csv\",\n",
    "    \"v6a\": \"results_v6_a.csv\",\n",
    "    \"v6m\": \"results_v6_m.csv\",\n",
    "    \"v5a_synth\": \"results_v5_synth_a.csv\",\n",
    "    \"v6a_synth\": \"results_v6_synth_a.csv\",\n",
    "    \"v5m_synth\": \"results_v5_synth_m.csv\",\n",
    "    \"v6m_synth\": \"results_v6_synth_m.csv\"\n",
    "}\n",
    "\n",
    "results = []\n",
    "\n",
    "for name, path in files.items():\n",
    "    df = pd.read_csv(path)\n",
    "    avg_area = df[\"avg_area\"]\n",
    "    variance = np.std(np.sqrt(avg_area))\n",
    "    rms = np.mean(np.sqrt(avg_area))\n",
    "    results.append({\n",
    "        \"fichier\": name,\n",
    "        \"variance_avg_area\": variance,\n",
    "        \"rms_avg_area\": rms\n",
    "    })\n",
    "\n",
    "df_summary = pd.DataFrame(results)\n",
    "print(df_summary)"
   ]
  },
  {
   "cell_type": "code",
   "execution_count": null,
   "metadata": {},
   "outputs": [
    {
     "name": "stdout",
     "output_type": "stream",
     "text": [
      "     fichier  marge_left_pred  marge_top_pred  marge_right_pred  \\\n",
      "0        v5a        11.756713        5.794552          8.930912   \n",
      "1        v5m        18.168259        7.848067         12.041179   \n",
      "2        v6a        10.388060        3.471438          7.755489   \n",
      "3        v6m        15.578313        4.922356         11.754398   \n",
      "4  v5a_synth        11.990723        5.502686          8.865966   \n",
      "5  v6a_synth        10.659422        3.202028          7.755492   \n",
      "6  v5m_synth        21.240302        8.009249         14.387174   \n",
      "7  v6m_synth        18.833792        4.975623         13.151775   \n",
      "\n",
      "   marge_bottom_pred  marge_left_gt  marge_top_gt  marge_right_gt  \\\n",
      "0           8.539671      11.975850      6.073535       10.035560   \n",
      "1          10.647329      17.099191      8.068846       11.990066   \n",
      "2           6.523437      10.519379      4.729569        9.205454   \n",
      "3           7.316546      15.147784      6.206010       11.931098   \n",
      "4           8.059444      12.234019      5.911663       10.056758   \n",
      "5           6.209594      11.110533      4.654209        9.219511   \n",
      "6           9.741377      20.874961      8.375230       14.521352   \n",
      "7           7.254103      18.311675      6.423508       13.408630   \n",
      "\n",
      "   marge_bottom_gt  \n",
      "0         8.539230  \n",
      "1        10.345000  \n",
      "2         6.368317  \n",
      "3         7.199211  \n",
      "4         8.832421  \n",
      "5         7.030516  \n",
      "6        10.118619  \n",
      "7         7.625656  \n"
     ]
    }
   ],
   "source": [
    "# pixel margin\n",
    "import pandas as pd\n",
    "import numpy as np\n",
    "import ast\n",
    "import re\n",
    "\n",
    "def parse_box_string(s):\n",
    "    try:\n",
    "        if pd.isna(s) or not isinstance(s, str):\n",
    "            return np.array([np.nan] * 4)\n",
    "        s_fixed = re.sub(r'(?<=\\d)\\s+(?=\\d)', ',', s)\n",
    "        val = ast.literal_eval(s_fixed)\n",
    "        if isinstance(val, list) and len(val) > 0:\n",
    "            return np.array(val[0])\n",
    "    except Exception:\n",
    "        pass\n",
    "    return np.array([np.nan] * 4)\n",
    "\n",
    "def mean_margin(df, box1_col, box2_col):\n",
    "    \"\"\"Compute the mean margin between two boxes.\"\"\"\n",
    "    margins = []\n",
    "    for b1_str, b2_str in zip(df[box1_col], df[box2_col]):\n",
    "        box1 = parse_box_string(b1_str)\n",
    "        box2 = parse_box_string(b2_str)\n",
    "        if not np.any(np.isnan(box1)) and not np.any(np.isnan(box2)):\n",
    "            diff = np.abs(box1 - box2)\n",
    "            margins.append(diff)\n",
    "    margins = np.array(margins)\n",
    "    return margins.mean(axis=0) if len(margins) > 0 else np.array([np.nan] * 4)\n",
    "\n",
    "files = {\n",
    "    \"v5a\": \"results_v5a.csv\",\n",
    "    \"v5m\": \"results_v5m.csv\",\n",
    "    \"v6a\": \"results_v6_a.csv\",\n",
    "    \"v6m\": \"results_v6_m.csv\",\n",
    "    \"v5a_synth\": \"results_v5_synth_a.csv\",\n",
    "    \"v6a_synth\": \"results_v6_synth_a.csv\",\n",
    "    \"v5m_synth\": \"results_v5_synth_m.csv\",\n",
    "    \"v6m_synth\": \"results_v6_synth_m.csv\"\n",
    "}\n",
    "\n",
    "results = []\n",
    "\n",
    "for name, path in files.items():\n",
    "    df = pd.read_csv(path)\n",
    "    margin_pred = mean_margin(df, \"box_outer\", \"pred_yolo\")\n",
    "    margin_gt = mean_margin(df, \"box_outer\", \"gt\")\n",
    "\n",
    "    results.append({\n",
    "        \"fichier\": name,\n",
    "        \"marge_left_pred\": margin_pred[0],\n",
    "        \"marge_top_pred\": margin_pred[1],\n",
    "        \"marge_right_pred\": margin_pred[2],\n",
    "        \"marge_bottom_pred\": margin_pred[3],\n",
    "        \"marge_left_gt\": margin_gt[0],\n",
    "        \"marge_top_gt\": margin_gt[1],\n",
    "        \"marge_right_gt\": margin_gt[2],\n",
    "        \"marge_bottom_gt\": margin_gt[3]\n",
    "    })\n",
    "\n",
    "df_marges = pd.DataFrame(results)\n",
    "print(df_marges)"
   ]
  },
  {
   "cell_type": "code",
   "execution_count": 12,
   "metadata": {},
   "outputs": [],
   "source": [
    "# stretch\n",
    "def box_area(box):\n",
    "    \"\"\"Compute area of a box: [x_min, y_min, x_max, y_max]\"\"\"\n",
    "    return max(0, box[2] - box[0]) * max(0, box[3] - box[1])\n",
    "\n",
    "\n",
    "def compute_stretch(df, raw_col='pred_yolo', conform_area_col='avg_area'):\n",
    "    ratios = []\n",
    "    for idx, raw_str in enumerate(df[raw_col]):\n",
    "        raw_box = parse_box_string(raw_str)\n",
    "        area_conform = df[conform_area_col].iloc[idx] \n",
    "\n",
    "        if not np.any(np.isnan(raw_box)) and not pd.isna(area_conform):\n",
    "            area_raw = box_area(raw_box)\n",
    "            if area_raw > 0:\n",
    "                ratio = np.sqrt(area_conform / area_raw)\n",
    "                ratios.append(ratio)\n",
    "    return np.mean(ratios) if ratios else np.nan\n"
   ]
  },
  {
   "cell_type": "code",
   "execution_count": null,
   "metadata": {},
   "outputs": [
    {
     "name": "stdout",
     "output_type": "stream",
     "text": [
      "     fichier   stretch\n",
      "0        v5a  1.155251\n",
      "1        v5m  1.131065\n",
      "2        v6a  1.126092\n",
      "3        v6m  1.105741\n",
      "4  v5a_synth  1.145744\n",
      "5  v6a_synth  1.119661\n",
      "6  v5m_synth  1.127565\n",
      "7  v6m_synth  1.105226\n"
     ]
    }
   ],
   "source": [
    "files = {\n",
    "    \"v5a\": \"results_v5a.csv\",\n",
    "    \"v5m\": \"results_v5m.csv\",\n",
    "    \"v6a\": \"results_v6_a.csv\",\n",
    "    \"v6m\": \"results_v6_m.csv\",\n",
    "    \"v5a_synth\": \"results_v5_synth_a.csv\",\n",
    "    \"v6a_synth\": \"results_v6_synth_a.csv\",\n",
    "    \"v5m_synth\": \"results_v5_synth_m.csv\",\n",
    "    \"v6m_synth\": \"results_v6_synth_m.csv\"\n",
    "}\n",
    "\n",
    "stretch_results = []\n",
    "\n",
    "for name, path in files.items():\n",
    "    df = pd.read_csv(path)\n",
    "    stretch = compute_stretch(df)\n",
    "    stretch_results.append({\"fichier\": name, \"stretch\": stretch})\n",
    "\n",
    "df_stretch = pd.DataFrame(stretch_results)\n",
    "print(df_stretch)\n"
   ]
  },
  {
   "cell_type": "markdown",
   "metadata": {},
   "source": [
    "### **Merging** "
   ]
  },
  {
   "cell_type": "code",
   "execution_count": 14,
   "metadata": {},
   "outputs": [
    {
     "name": "stdout",
     "output_type": "stream",
     "text": [
      "     fichier  variance_avg_area   rms_avg_area  marge_left_pred  \\\n",
      "0        v5a       2.442253e+10  168162.395168        11.756713   \n",
      "4  v5a_synth       3.637749e+10  206594.558907        11.990723   \n",
      "1        v5m       3.743610e+10  206111.733595        18.168259   \n",
      "6  v5m_synth       5.522840e+10  252372.039869        21.240302   \n",
      "2        v6a       2.621643e+10  172557.201513        10.388060   \n",
      "\n",
      "   marge_top_pred  marge_right_pred  marge_bottom_pred  marge_left_gt  \\\n",
      "0        5.794552          8.930912           8.539671      11.975850   \n",
      "4        5.502686          8.865966           8.059444      12.234019   \n",
      "1        7.848067         12.041179          10.647329      17.099191   \n",
      "6        8.009249         14.387174           9.741377      20.874961   \n",
      "2        3.471438          7.755489           6.523437      10.519379   \n",
      "\n",
      "   marge_top_gt  marge_right_gt  marge_bottom_gt   stretch  \n",
      "0      6.073535       10.035560         8.539230  1.155251  \n",
      "4      5.911663       10.056758         8.832421  1.145744  \n",
      "1      8.068846       11.990066        10.345000  1.131065  \n",
      "6      8.375230       14.521352        10.118619  1.127565  \n",
      "2      4.729569        9.205454         6.368317  1.126092  \n"
     ]
    }
   ],
   "source": [
    "df_merged = df_summary.merge(df_marges, on='fichier', how='outer') \\\n",
    "                      .merge(df_stretch, on='fichier', how='outer')\n",
    "\n",
    "df_merged = df_merged.sort_values(by=\"fichier\")\n",
    "\n",
    "df_merged.to_csv(\"conformal_metrics_summary.csv\", index=False)\n",
    "\n",
    "print(df_merged.head())"
   ]
  }
 ],
 "metadata": {
  "kernelspec": {
   "display_name": "yolov5_env",
   "language": "python",
   "name": "python3"
  },
  "language_info": {
   "codemirror_mode": {
    "name": "ipython",
    "version": 3
   },
   "file_extension": ".py",
   "mimetype": "text/x-python",
   "name": "python",
   "nbconvert_exporter": "python",
   "pygments_lexer": "ipython3",
   "version": "3.8.20"
  }
 },
 "nbformat": 4,
 "nbformat_minor": 2
}
